{
 "cells": [
  {
   "cell_type": "code",
   "execution_count": 5,
   "metadata": {},
   "outputs": [],
   "source": [
    "import pandas as pd\n",
    "import numpy as np\n",
    "from IPython.display import Markdown, display, clear_output\n",
    "from ipywidgets.widgets.interaction import show_inline_matplotlib_plots\n",
    "import ipywidgets as widgets\n",
    "def printmd(string):\n",
    "    display(Markdown(string))\n",
    "import matplotlib.pyplot as plt\n",
    "from past.builtins import execfile\n",
    "%matplotlib inline\n",
    "\n",
    "execfile('functions.py')\n",
    "\n",
    "suspicious_cases = pd.read_pickle('./data/czech_suspicious_cases.pkl')\n",
    "suspicious_cases_feat = suspicious_cases.iloc[:,:66].drop(columns=['pred', 'k_symbol', 'date', 'counter_party', 'account_id', 'label', 'recon_error'])"
   ]
  },
  {
   "cell_type": "code",
   "execution_count": 4,
   "metadata": {},
   "outputs": [
    {
     "data": {
      "application/vnd.jupyter.widget-view+json": {
       "model_id": "1223cc0c1ac348dd92edf8f7b29822a3",
       "version_major": 2,
       "version_minor": 0
      },
      "text/plain": [
       "VBox(children=(HBox(children=(Button(button_style='danger', description='Previous Case', layout=Layout(width='…"
      ]
     },
     "metadata": {},
     "output_type": "display_data"
    }
   ],
   "source": [
    "next_button = widgets.Button(description='Next Case', disabled=False, button_style='success', layout=widgets.Layout(width='30%'))\n",
    "prev_button = widgets.Button(description='Previous Case', disabled=False, button_style='danger', layout=widgets.Layout(width='30%'))\n",
    "dropdown = widgets.Dropdown(\n",
    "    options=['Decision Explanations', 'Transaction data','Shap Analysis', 'Account history'],\n",
    "    value='Decision Explanations',\n",
    "    description='Data Type:',\n",
    "    disabled=False,\n",
    ")\n",
    "\n",
    "refresh_button = widgets.Button(description='Refresh', disabled=False, button_style='success', layout=widgets.Layout(width='30%'))\n",
    "\n",
    "out = widgets.Output(layout={'border': '1px solid black'})\n",
    "ix = 0\n",
    "\n",
    "refresh_button.on_click(refresh_button_clicked)         \n",
    "next_button.on_click(next_button_clicked)\n",
    "prev_button.on_click(prev_button_clicked)\n",
    "uphbox = widgets.HBox([dropdown, refresh_button])\n",
    "buttons = widgets.HBox([prev_button, next_button])\n",
    "# displaying button and its output together\n",
    "widgets.VBox([buttons,uphbox,out])"
   ]
  }
 ],
 "metadata": {
  "kernelspec": {
   "display_name": "Python 3",
   "language": "python",
   "name": "python3"
  },
  "language_info": {
   "codemirror_mode": {
    "name": "ipython",
    "version": 3
   },
   "file_extension": ".py",
   "mimetype": "text/x-python",
   "name": "python",
   "nbconvert_exporter": "python",
   "pygments_lexer": "ipython3",
   "version": "3.7.3"
  }
 },
 "nbformat": 4,
 "nbformat_minor": 4
}
